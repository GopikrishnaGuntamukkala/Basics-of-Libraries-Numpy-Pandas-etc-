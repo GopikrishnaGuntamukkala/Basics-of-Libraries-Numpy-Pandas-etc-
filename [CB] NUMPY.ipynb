{
 "cells": [
  {
   "cell_type": "markdown",
   "id": "842e6261",
   "metadata": {},
   "source": [
    "# NUMPY"
   ]
  },
  {
   "cell_type": "markdown",
   "id": "e79fa405",
   "metadata": {},
   "source": [
    "# Working with Numpy - for mathematical operations\n",
    "\n",
    "##numpy means numerical python\n",
    "#import numpy as np"
   ]
  },
  {
   "cell_type": "code",
   "execution_count": 3,
   "id": "4ccabe1e",
   "metadata": {},
   "outputs": [],
   "source": [
    "import numpy as np"
   ]
  },
  {
   "cell_type": "markdown",
   "id": "6b3dd815",
   "metadata": {},
   "source": [
    "### shape"
   ]
  },
  {
   "cell_type": "code",
   "execution_count": null,
   "id": "35f0c9c5",
   "metadata": {},
   "outputs": [],
   "source": [
    "a=np.array([1,2,3,4,5])\n",
    "print(a)\n",
    "print(a.shape)\n",
    "type(a)"
   ]
  },
  {
   "cell_type": "code",
   "execution_count": null,
   "id": "d1a321b6",
   "metadata": {},
   "outputs": [],
   "source": [
    "b=np.array([[1],[2],[3],[4],[5]])\n",
    "print(b)\n",
    "print(b.shape)\n",
    "type(b)"
   ]
  },
  {
   "cell_type": "code",
   "execution_count": null,
   "id": "b8305573",
   "metadata": {},
   "outputs": [],
   "source": [
    "c=np.array([[1,2,3],[4,5,6]])\n",
    "print(c)\n",
    "print(c.shape)"
   ]
  },
  {
   "cell_type": "markdown",
   "id": "379661c9",
   "metadata": {},
   "source": [
    "### create array of Zeros,Ones array"
   ]
  },
  {
   "cell_type": "code",
   "execution_count": 7,
   "id": "6ddf20d7",
   "metadata": {},
   "outputs": [
    {
     "name": "stdout",
     "output_type": "stream",
     "text": [
      "[[0. 0. 0.]\n",
      " [0. 0. 0.]\n",
      " [0. 0. 0.]]\n",
      "[[0 0 0]\n",
      " [0 0 0]\n",
      " [0 0 0]]\n"
     ]
    }
   ],
   "source": [
    "x=np.zeros((3,3))\n",
    "print(x)\n",
    "\n",
    "x1=np.zeros((3,3),dtype='int')\n",
    "print(x1)"
   ]
  },
  {
   "cell_type": "code",
   "execution_count": 5,
   "id": "a7a179c0",
   "metadata": {},
   "outputs": [
    {
     "name": "stdout",
     "output_type": "stream",
     "text": [
      "[[1. 1. 1.]\n",
      " [1. 1. 1.]\n",
      " [1. 1. 1.]]\n",
      "[[1 1 1]\n",
      " [1 1 1]\n",
      " [1 1 1]]\n"
     ]
    }
   ],
   "source": [
    "xy=np.ones((3,3)) #by default it is float\n",
    "print(xy)\n"
   ]
  },
  {
   "cell_type": "code",
   "execution_count": 6,
   "id": "12be198f",
   "metadata": {},
   "outputs": [
    {
     "name": "stdout",
     "output_type": "stream",
     "text": [
      "[[1 1 1]\n",
      " [1 1 1]\n",
      " [1 1 1]]\n"
     ]
    }
   ],
   "source": [
    "#we can change to int also\n",
    "xy1=np.ones((3,3),dtype='int')\n",
    "print(xy1)"
   ]
  },
  {
   "cell_type": "markdown",
   "id": "53751757",
   "metadata": {},
   "source": [
    "### Array of some constants"
   ]
  },
  {
   "cell_type": "code",
   "execution_count": null,
   "id": "1f86a2e5",
   "metadata": {},
   "outputs": [],
   "source": [
    "\n",
    "c=np.full((3,3),10)\n",
    "    #rows,columns  #number which is constnt\n",
    "print(c)"
   ]
  },
  {
   "cell_type": "markdown",
   "id": "7db1a662",
   "metadata": {},
   "source": [
    "### identity  Matrix - size/Square Matrix"
   ]
  },
  {
   "cell_type": "code",
   "execution_count": null,
   "id": "e52d8e21",
   "metadata": {},
   "outputs": [],
   "source": [
    "\n",
    "d=np.eye(5) #5 rows & columns\n",
    "print(d)"
   ]
  },
  {
   "cell_type": "markdown",
   "id": "14d72635",
   "metadata": {},
   "source": [
    "### Random matrix"
   ]
  },
  {
   "cell_type": "code",
   "execution_count": 4,
   "id": "080fef4d",
   "metadata": {},
   "outputs": [
    {
     "name": "stdout",
     "output_type": "stream",
     "text": [
      "[[0.23427917 0.75722042 0.47250206]\n",
      " [0.78904034 0.36786262 0.48008923]]\n",
      "[0.75722042 0.36786262]\n",
      "[[0.23427917 0.75722042 0.47250206]\n",
      " [0.78904034 5.         5.        ]]\n"
     ]
    },
    {
     "data": {
      "text/plain": [
       "dtype('float64')"
      ]
     },
     "execution_count": 4,
     "metadata": {},
     "output_type": "execute_result"
    }
   ],
   "source": [
    "#random matrix\n",
    "r=np.random.random((2,3))\n",
    "                  #rows,columns\n",
    "print(r)\n",
    "\n",
    "\n",
    "#we can update the matrix also\n",
    "print(r[:,1]) #slicing\n",
    "\n",
    "  #row,colummn\n",
    "r[1,1:]=5\n",
    "print(r)\n"
   ]
  },
  {
   "cell_type": "markdown",
   "id": "862e55ee",
   "metadata": {},
   "source": [
    "### datatype"
   ]
  },
  {
   "cell_type": "code",
   "execution_count": 8,
   "id": "aa73c9cf",
   "metadata": {},
   "outputs": [
    {
     "data": {
      "text/plain": [
       "dtype('float64')"
      ]
     },
     "execution_count": 8,
     "metadata": {},
     "output_type": "execute_result"
    }
   ],
   "source": [
    "#DataTypes\n",
    "r.dtype"
   ]
  },
  {
   "cell_type": "markdown",
   "id": "3cc6bd7d",
   "metadata": {},
   "source": [
    "## Mathematical Operations"
   ]
  },
  {
   "cell_type": "code",
   "execution_count": 10,
   "id": "f1dcec52",
   "metadata": {},
   "outputs": [
    {
     "name": "stdout",
     "output_type": "stream",
     "text": [
      "[[3 3]\n",
      " [3 3]]\n"
     ]
    }
   ],
   "source": [
    "x=np.array([[1,1],[2,2]])\n",
    "y=np.array([[2,2],[1,1]])\n",
    "print(x+y) #arithmetic operation"
   ]
  },
  {
   "cell_type": "code",
   "execution_count": 11,
   "id": "9114214d",
   "metadata": {
    "scrolled": true
   },
   "outputs": [
    {
     "name": "stdout",
     "output_type": "stream",
     "text": [
      "[[3 3]\n",
      " [3 3]]\n"
     ]
    }
   ],
   "source": [
    "#using in-bulit function(addition)\n",
    "print(np.add(x,y))"
   ]
  },
  {
   "cell_type": "code",
   "execution_count": 14,
   "id": "5457d42f",
   "metadata": {},
   "outputs": [
    {
     "name": "stdout",
     "output_type": "stream",
     "text": [
      "[[-1 -1]\n",
      " [ 1  1]]\n",
      "[[ 1  1]\n",
      " [-1 -1]]\n"
     ]
    }
   ],
   "source": [
    "x=np.array([[1,1],[2,2]])  #subtraction\n",
    "y=np.array([[2,2],[1,1]])\n",
    "print(x-y) \n",
    "print(np.subtract(y,x)) #inbulit"
   ]
  },
  {
   "cell_type": "code",
   "execution_count": 16,
   "id": "a7f6bac3",
   "metadata": {},
   "outputs": [
    {
     "name": "stdout",
     "output_type": "stream",
     "text": [
      "[[2 2]\n",
      " [2 2]]\n",
      "[[2 2]\n",
      " [2 2]]\n"
     ]
    }
   ],
   "source": [
    "print(x*y) #multiplication\n",
    "print(np.multiply(x,y))"
   ]
  },
  {
   "cell_type": "code",
   "execution_count": 15,
   "id": "9722070c",
   "metadata": {},
   "outputs": [
    {
     "name": "stdout",
     "output_type": "stream",
     "text": [
      "[[0.5 0.5]\n",
      " [2.  2. ]]\n",
      "[[0.5 0.5]\n",
      " [2.  2. ]]\n"
     ]
    }
   ],
   "source": [
    "print(x/y) #divison\n",
    "print(np.divide(x,y))"
   ]
  },
  {
   "cell_type": "code",
   "execution_count": 17,
   "id": "87312d9a",
   "metadata": {},
   "outputs": [
    {
     "name": "stdout",
     "output_type": "stream",
     "text": [
      "[[1 1]\n",
      " [2 2]]\n",
      "[[2 2]\n",
      " [1 1]]\n",
      "[[3 3]\n",
      " [6 6]]\n",
      "[[3 3]\n",
      " [6 6]]\n"
     ]
    }
   ],
   "source": [
    "#matrix Multiplication / Dot products\n",
    "\n",
    "print(x)\n",
    "print(y)\n",
    "print(x.dot(y))\n",
    "print(np.dot(x,y))"
   ]
  },
  {
   "cell_type": "markdown",
   "id": "10a7e8cd",
   "metadata": {},
   "source": [
    "## Broadcasting is possible in Numpy"
   ]
  },
  {
   "cell_type": "code",
   "execution_count": 18,
   "id": "23de2e4f",
   "metadata": {},
   "outputs": [
    {
     "name": "stdout",
     "output_type": "stream",
     "text": [
      "[[3 3]\n",
      " [4 4]]\n"
     ]
    }
   ],
   "source": [
    "x=np.array([[1,1],[2,2]])\n",
    "y=np.array([[2,2]])\n",
    "print(x+y) "
   ]
  },
  {
   "cell_type": "markdown",
   "id": "7923c7a5",
   "metadata": {},
   "source": [
    "## Multiplication (Dot Product) of Vectors -> Scalar\n"
   ]
  },
  {
   "cell_type": "code",
   "execution_count": 19,
   "id": "5f653487",
   "metadata": {},
   "outputs": [
    {
     "name": "stdout",
     "output_type": "stream",
     "text": [
      "30\n"
     ]
    }
   ],
   "source": [
    "a=np.array([1,2,3,4])\n",
    "b=np.array([1,2,3,4])\n",
    "print(a.dot(b)) #[1 2 3 4] [1\\n 2\\n 3\\n 4\\n]\n",
    "                #1*1+2*2+3*3+4*4\n",
    "                # (1+2+3+4)**2\n",
    "                #30 is the answer"
   ]
  },
  {
   "cell_type": "code",
   "execution_count": 20,
   "id": "c903b51f",
   "metadata": {},
   "outputs": [
    {
     "name": "stdout",
     "output_type": "stream",
     "text": [
      "[1 2 3 4]\n"
     ]
    }
   ],
   "source": [
    "print(a)"
   ]
  },
  {
   "cell_type": "code",
   "execution_count": 21,
   "id": "3266617c",
   "metadata": {},
   "outputs": [
    {
     "name": "stdout",
     "output_type": "stream",
     "text": [
      "[1 2 3 4]\n",
      "10\n"
     ]
    }
   ],
   "source": [
    "#sum of an array\n",
    "a=np.array([1,2,3,4])\n",
    "print(a)\n",
    "print(sum(a))"
   ]
  },
  {
   "cell_type": "code",
   "execution_count": 24,
   "id": "52a4050c",
   "metadata": {},
   "outputs": [
    {
     "name": "stdout",
     "output_type": "stream",
     "text": [
      "10\n"
     ]
    }
   ],
   "source": [
    "print(np.sum(a))\n",
    "print(np.sum(a,axis=0))"
   ]
  },
  {
   "cell_type": "code",
   "execution_count": 27,
   "id": "69e0272c",
   "metadata": {},
   "outputs": [
    {
     "name": "stdout",
     "output_type": "stream",
     "text": [
      "[[1 1]\n",
      " [2 2]]\n",
      "[3 3]\n",
      "[2 4]\n"
     ]
    }
   ],
   "source": [
    "x=np.array([[1,1],[2,2]])\n",
    "y=np.array([[2,2]])\n",
    "print(x)\n",
    "print(np.sum(x,axis=0))\n",
    " \n",
    "print(np.sum(x,axis=1)) #[ 1 1 ] =2\n",
    "                        #[ 2 2 ]  =4\n",
    "    #[ 2 4 ]"
   ]
  },
  {
   "cell_type": "markdown",
   "id": "2e429acc",
   "metadata": {},
   "source": [
    "## Stacking of arrays"
   ]
  },
  {
   "cell_type": "code",
   "execution_count": 28,
   "id": "5bbe64d2",
   "metadata": {},
   "outputs": [
    {
     "name": "stdout",
     "output_type": "stream",
     "text": [
      "[1 2 3 4]\n",
      "[2 4 6 8]\n"
     ]
    }
   ],
   "source": [
    "#print(a)\n",
    "b=a*2\n",
    "print(b)"
   ]
  },
  {
   "cell_type": "code",
   "execution_count": 29,
   "id": "40cf0c2b",
   "metadata": {},
   "outputs": [
    {
     "data": {
      "text/plain": [
       "array([[1, 2, 3, 4],\n",
       "       [2, 4, 6, 8]])"
      ]
     },
     "execution_count": 29,
     "metadata": {},
     "output_type": "execute_result"
    }
   ],
   "source": [
    "np.stack((a,b),axis=0)"
   ]
  },
  {
   "cell_type": "code",
   "execution_count": 36,
   "id": "adec7f49",
   "metadata": {},
   "outputs": [],
   "source": [
    "#np.stack((a,b),axis=1)\n"
   ]
  },
  {
   "cell_type": "code",
   "execution_count": 37,
   "id": "c2473612",
   "metadata": {},
   "outputs": [
    {
     "name": "stdout",
     "output_type": "stream",
     "text": [
      "[[1 2]\n",
      " [2 4]\n",
      " [3 6]\n",
      " [4 8]]\n"
     ]
    }
   ],
   "source": [
    "print(a)"
   ]
  },
  {
   "cell_type": "markdown",
   "id": "c91d5acb",
   "metadata": {},
   "source": [
    "## Reshape the array"
   ]
  },
  {
   "cell_type": "code",
   "execution_count": 38,
   "id": "0fcf209c",
   "metadata": {},
   "outputs": [
    {
     "name": "stdout",
     "output_type": "stream",
     "text": [
      "[[1 2 2 4]\n",
      " [3 6 4 8]]\n"
     ]
    }
   ],
   "source": [
    "\n",
    "          #rows,columns\n",
    "a=a.reshape((2,4))\n",
    "print(a)\n"
   ]
  },
  {
   "cell_type": "code",
   "execution_count": 39,
   "id": "0919fcda",
   "metadata": {},
   "outputs": [
    {
     "name": "stdout",
     "output_type": "stream",
     "text": [
      "[[1]\n",
      " [2]\n",
      " [2]\n",
      " [4]\n",
      " [3]\n",
      " [6]\n",
      " [4]\n",
      " [8]]\n"
     ]
    }
   ],
   "source": [
    "a=a.reshape((8,1))\n",
    "print(a)"
   ]
  },
  {
   "cell_type": "markdown",
   "id": "f9224680",
   "metadata": {},
   "source": [
    "## Numpy Random Module"
   ]
  },
  {
   "cell_type": "code",
   "execution_count": 42,
   "id": "53ba1b21",
   "metadata": {},
   "outputs": [
    {
     "name": "stdout",
     "output_type": "stream",
     "text": [
      "enter the number : 6\n",
      "[0 1 2 3 4 5]\n"
     ]
    }
   ],
   "source": [
    "#generate the numbers from 0 to n-1\n",
    "n=int(input(\"enter the number : \"))\n",
    "a=np.arange(n)\n",
    "print(a)"
   ]
  },
  {
   "cell_type": "code",
   "execution_count": 48,
   "id": "65b65dd5",
   "metadata": {},
   "outputs": [
    {
     "name": "stdout",
     "output_type": "stream",
     "text": [
      "[ 5  6  7  8  9 10 11 12 13 14 15]\n"
     ]
    }
   ],
   "source": [
    "x=np.arange(11)+5  #starts from 0 to 10 and each added with 5\n",
    "print(x)"
   ]
  },
  {
   "cell_type": "code",
   "execution_count": 51,
   "id": "ebe7dbfd",
   "metadata": {},
   "outputs": [
    {
     "name": "stdout",
     "output_type": "stream",
     "text": [
      "[ 7  5  9 14 15 10  8 12 11 13  6]\n"
     ]
    }
   ],
   "source": [
    "np.random.shuffle(x) #each time it will shuffles the data\n",
    "print(x)\n"
   ]
  },
  {
   "cell_type": "code",
   "execution_count": 53,
   "id": "7f0db821",
   "metadata": {},
   "outputs": [
    {
     "name": "stdout",
     "output_type": "stream",
     "text": [
      "[[-1.95047255  0.13978978  0.18357509]\n",
      " [ 1.82312622  1.04189429  1.92110777]]\n"
     ]
    }
   ],
   "source": [
    "x=np.random.randn(2,3) #random values \n",
    "              #rows,columns\n",
    "print(x)"
   ]
  },
  {
   "cell_type": "code",
   "execution_count": 54,
   "id": "2a2f7a3c",
   "metadata": {},
   "outputs": [
    {
     "name": "stdout",
     "output_type": "stream",
     "text": [
      "[5 6 5]\n"
     ]
    }
   ],
   "source": [
    "x=np.random.randint(5,10,3) #random values \n",
    "              #rows,columns\n",
    "print(x)"
   ]
  },
  {
   "cell_type": "markdown",
   "id": "9b23684c",
   "metadata": {},
   "source": [
    "### Random pick one element from an array"
   ]
  },
  {
   "cell_type": "code",
   "execution_count": 56,
   "id": "78652933",
   "metadata": {},
   "outputs": [
    {
     "name": "stdout",
     "output_type": "stream",
     "text": [
      "3\n"
     ]
    }
   ],
   "source": [
    "A=np.random.choice([1,2,3,4,5,6])\n",
    "print(A)"
   ]
  },
  {
   "cell_type": "markdown",
   "id": "9e476ddb",
   "metadata": {},
   "source": [
    "## Numpy Functions - Statistics"
   ]
  },
  {
   "cell_type": "code",
   "execution_count": 62,
   "id": "66380b85",
   "metadata": {},
   "outputs": [
    {
     "name": "stdout",
     "output_type": "stream",
     "text": [
      "[[1 2 3]\n",
      " [4 5 6]]\n",
      "1\n",
      "[1 2 3]\n",
      "[1 4]\n"
     ]
    }
   ],
   "source": [
    "#min function\n",
    "a=np.array([[1,2,3],[4,5,6]])\n",
    "print(a)\n",
    "print(np.min(a))\n",
    "print(np.min(a,axis=0))\n",
    "print(np.min(a,axis=1))"
   ]
  },
  {
   "cell_type": "code",
   "execution_count": 67,
   "id": "314a735d",
   "metadata": {},
   "outputs": [
    {
     "name": "stdout",
     "output_type": "stream",
     "text": [
      "2.0\n",
      "2.0\n",
      "2.0\n"
     ]
    }
   ],
   "source": [
    "#Mean /avg function\n",
    "a=np.array([1,2,3])\n",
    "b=np.array([4,5,6])\n",
    "c=sum(a)/3\n",
    "print(c)\n",
    "print(np.mean(a))\n",
    "print(np.mean(a,axis=0))\n",
    "#print(np.mean(a,axis=1))"
   ]
  },
  {
   "cell_type": "code",
   "execution_count": 70,
   "id": "2cfc934e",
   "metadata": {},
   "outputs": [
    {
     "name": "stdout",
     "output_type": "stream",
     "text": [
      "2.5\n",
      "2.0\n"
     ]
    }
   ],
   "source": [
    "#median (sort and middle value )\n",
    "a=np.array([1,2,3,4])\n",
    "b=np.array([1,2,3])\n",
    "print(np.median(a))\n",
    "print(np.median(b))"
   ]
  },
  {
   "cell_type": "code",
   "execution_count": null,
   "id": "e449ff89",
   "metadata": {},
   "outputs": [],
   "source": []
  }
 ],
 "metadata": {
  "kernelspec": {
   "display_name": "Python 3 (ipykernel)",
   "language": "python",
   "name": "python3"
  },
  "language_info": {
   "codemirror_mode": {
    "name": "ipython",
    "version": 3
   },
   "file_extension": ".py",
   "mimetype": "text/x-python",
   "name": "python",
   "nbconvert_exporter": "python",
   "pygments_lexer": "ipython3",
   "version": "3.10.4"
  }
 },
 "nbformat": 4,
 "nbformat_minor": 5
}
